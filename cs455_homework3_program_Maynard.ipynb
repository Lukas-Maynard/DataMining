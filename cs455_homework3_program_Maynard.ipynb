{
 "cells": [
  {
   "cell_type": "code",
   "execution_count": 11,
   "id": "0a6c8e63",
   "metadata": {
    "scrolled": false
   },
   "outputs": [
    {
     "name": "stdout",
     "output_type": "stream",
     "text": [
      "[['1', '2003', '250'], ['2', '2005', '247.5'], ['3', '2014', '224'], ['4', '2013', '200'], ['5', '2015', '174.1'], ['6', '2013', '164.5'], ['7', '1999', '161'], ['8', '2016', '159.9'], ['9', '2019', '159.2'], ['10', '2018', '151.1'], ['11', '2003', '150'], ['12', '2007', '150'], ['13', '2009', '150'], ['14', '2009', '150'], ['15', '2012', '146.2'], ['16', '2004', '135'], ['17', '2004', '130'], ['18', '2005', '130'], ['19', '2000', '126'], ['20', '2017', '124.7'], ['21', '2020', '100'], ['22', '2007', '100'], ['23', '2010', '100'], ['24', '2004', '75'], ['25', '2012', '70'], ['26', '2013', '70'], ['27', '2007', '65'], ['28', '2017', '63'], ['29', '2011', '60'], ['30', '1996', '60'], ['31', '2003', '60'], ['32', '2005', '60'], ['33', '2016', '55'], ['34', '2003', '50'], ['35', '2004', '50'], ['36', '2010', '50'], ['37', '2006', '47'], ['38', '2015', '45'], ['39', '2005', '45'], ['40', '2017', '41'], ['41', '2011', '40'], ['42', '2019', '37'], ['43', '2018', '35.4'], ['44', '2004', '35'], ['45', '2009', '35'], ['46', '2018', '32'], ['47', '2019', '30.3'], ['48', '2006', '30'], ['49', '2008', '30'], ['50', '2012', '30'], ['51', '2006', '30'], ['52', '2019', '30'], ['53', '2020', '29'], ['54', '2020', '28'], ['55', '2010', '25'], ['56', '2016', '24.2'], ['57', '2019', '24.2'], ['58', '2020', '24.2'], ['59', '2019', '23.2'], ['60', '2019', '23.1'], ['61', '2006', '21'], ['62', '2003', '20'], ['63', '2019', '20'], ['64', '2019', '20'], ['65', '2020', '19.4'], ['66', '2017', '17'], ['67', '2018', '17'], ['68', '2019', '16.9'], ['69', '2011', '16'], ['70', '2016', '15.8'], ['71', '2020', '15.3'], ['72', '2018', '15.2'], ['73', '2007', '15'], ['74', '2008', '15'], ['75', '2008', '15'], ['76', '2004', '15'], ['77', '2005', '15'], ['78', '2006', '15'], ['79', '2006', '15'], ['80', '2020', '15'], ['81', '2021', '13.5'], ['82', '2011', '13'], ['83', '2009', '13'], ['84', '2019', '12'], ['85', '2022', '10.9'], ['86', '2003', '10'], ['87', '2007', '10'], ['88', '2008', '10'], ['89', '2009', '10'], ['90', '2011', '10'], ['91', '2012', '10'], ['92', '2013', '10'], ['93', '2014', '10'], ['94', '2017', '10'], ['95', '2019', '10'], ['96', '2020', '10'], ['97', '2019', '9.7'], ['98', '2018', '9.6'], ['99', '2019', '9.2'], ['100', '2019', '7.3']]\n"
     ]
    }
   ],
   "source": [
    "import csv\n",
    "\n",
    "rawData = []\n",
    "with open(\"cs455_homework3_Maynard_dataset.csv\" ,'r') as csvFile:\n",
    "    next(csvFile)\n",
    "    for line in csvFile:\n",
    "        rawData.append(line.strip().split(','))\n",
    "    csvFile.close()\n",
    "    \n",
    "print(rawData)"
   ]
  },
  {
   "cell_type": "code",
   "execution_count": 12,
   "id": "b4ffb5c8",
   "metadata": {
    "scrolled": true
   },
   "outputs": [
    {
     "name": "stdout",
     "output_type": "stream",
     "text": [
      "[[26.923, 100.0], [34.615, 98.97], [69.231, 89.287], [65.385, 79.398], [73.077, 68.727], [65.385, 64.771], [11.538, 63.329], [76.923, 62.876], [88.462, 62.588], [84.615, 59.25], [26.923, 58.797], [42.308, 58.797], [50.0, 58.797], [50.0, 58.797], [61.538, 57.231], [30.769, 52.616], [30.769, 50.556], [34.615, 50.556], [15.385, 48.908], [80.769, 48.372], [92.308, 38.195], [42.308, 38.195], [53.846, 38.195], [30.769, 27.895], [61.538, 25.834], [65.385, 25.834], [42.308, 23.774], [80.769, 22.95], [57.692, 21.714], [0.0, 21.714], [26.923, 21.714], [34.615, 21.714], [76.923, 19.654], [26.923, 17.594], [30.769, 17.594], [53.846, 17.594], [38.462, 16.358], [73.077, 15.534], [34.615, 15.534], [80.769, 13.885], [57.692, 13.473], [88.462, 12.237], [84.615, 11.578], [30.769, 11.413], [50.0, 11.413], [84.615, 10.177], [88.462, 9.477], [38.462, 9.353], [46.154, 9.353], [61.538, 9.353], [38.462, 9.353], [88.462, 9.353], [92.308, 8.941], [92.308, 8.529], [53.846, 7.293], [76.923, 6.963], [88.462, 6.963], [92.308, 6.963], [88.462, 6.551], [88.462, 6.51], [38.462, 5.645], [26.923, 5.233], [88.462, 5.233], [88.462, 5.233], [92.308, 4.986], [80.769, 3.997], [84.615, 3.997], [88.462, 3.956], [57.692, 3.585], [76.923, 3.502], [92.308, 3.296], [84.615, 3.255], [42.308, 3.173], [46.154, 3.173], [46.154, 3.173], [30.769, 3.173], [34.615, 3.173], [38.462, 3.173], [38.462, 3.173], [92.308, 3.173], [96.154, 2.555], [57.692, 2.349], [50.0, 2.349], [88.462, 1.937], [100.0, 1.483], [26.923, 1.112], [42.308, 1.112], [46.154, 1.112], [50.0, 1.112], [57.692, 1.112], [61.538, 1.112], [65.385, 1.112], [69.231, 1.112], [80.769, 1.112], [88.462, 1.112], [92.308, 1.112], [88.462, 0.989], [84.615, 0.948], [88.462, 0.783], [88.462, 0.0]]\n"
     ]
    }
   ],
   "source": [
    "yearData = [int(i[1]) for i in rawData]\n",
    "soldData = [float(i[2]) for i in rawData]\n",
    "\n",
    "def normalizeData(data):\n",
    "    newData = []\n",
    "    for i in range(len(data)):\n",
    "        newValue = (data[i] - min(data))/ (max(data) - min(data))*100\n",
    "        newData.append(round(newValue,3))\n",
    "    return newData\n",
    "\n",
    "normYearData = normalizeData(yearData)\n",
    "#print(normYearData)\n",
    "#print(\"--------\")\n",
    "\n",
    "normSoldData = normalizeData(soldData)\n",
    "#print(normSoldData)\n",
    "\n",
    "pairedData = []\n",
    "for i,j in zip(normYearData,normSoldData):\n",
    "    newPair = [i,j] \n",
    "    pairedData.append(newPair)\n",
    "    \n",
    "print(pairedData)"
   ]
  },
  {
   "cell_type": "code",
   "execution_count": 13,
   "id": "ab47bbb7",
   "metadata": {
    "scrolled": true
   },
   "outputs": [
    {
     "data": {
      "text/plain": [
       "<matplotlib.collections.PathCollection at 0x25c34383430>"
      ]
     },
     "execution_count": 13,
     "metadata": {},
     "output_type": "execute_result"
    },
    {
     "data": {
      "image/png": "[encoded data removed]",
      "text/plain": [
       "<Figure size 432x288 with 1 Axes>"
      ]
     },
     "metadata": {
      "needs_background": "light"
     },
     "output_type": "display_data"
    }
   ],
   "source": [
    "import matplotlib.pyplot as plot\n",
    "%matplotlib inline\n",
    "plot.xlim([0,105])\n",
    "plot.ylim([0,105])\n",
    "\n",
    "def getX(data):\n",
    "    r = []\n",
    "    for i in data:\n",
    "        r.append(i[0])\n",
    "    return r\n",
    "        \n",
    "def getY(data):\n",
    "    r = []\n",
    "    for i in data:\n",
    "        r.append(i[1])\n",
    "    return r\n",
    "\n",
    "\n",
    "X = getX(pairedData)\n",
    "Y = getY(pairedData)\n",
    "plot.scatter(X,Y)\n",
    "\n"
   ]
  },
  {
   "cell_type": "code",
   "execution_count": 35,
   "id": "48bb31c7",
   "metadata": {},
   "outputs": [
    {
     "name": "stdout",
     "output_type": "stream",
     "text": [
      "[[92.308, 6.963], [92.308, 8.529], [38.462, 3.173]]\n"
     ]
    }
   ],
   "source": [
    "import random\n",
    "\n",
    "centroids = []\n",
    "for i in range(3):\n",
    "    centroids.append(pairedData[random.randint(0, 100)])\n",
    "\n",
    "#centroid1 = pairedData[random.randint(0, 100)]\n",
    "#centroid2 = pairedData[random.randint(0, 100)]\n",
    "#centroid3 = pairedData[random.randint(0, 100)]\n",
    "\n",
    "#print(centroid1, centroid2, centroid3)\n",
    "print(centroids)"
   ]
  },
  {
   "cell_type": "code",
   "execution_count": 36,
   "id": "0a9fc160",
   "metadata": {},
   "outputs": [
    {
     "name": "stdout",
     "output_type": "stream",
     "text": [
      "[92.308, 6.963]\n",
      "[92.308, 8.529]\n",
      "[38.462, 3.173]\n"
     ]
    },
    {
     "data": {
      "image/png": "[encoded data removed]",
      "text/plain": [
       "<Figure size 432x288 with 1 Axes>"
      ]
     },
     "metadata": {
      "needs_background": "light"
     },
     "output_type": "display_data"
    }
   ],
   "source": [
    "X = getX(pairedData)\n",
    "Y = getY(pairedData)\n",
    "plot.scatter(X,Y)\n",
    "\n",
    "centroidColors = [\"yellow\",\"\"red\"]\n",
    "\n",
    "\n",
    "for i in range(len(centroids)):\n",
    "    print(centroids[i])\n",
    "    X = getX([centroids[i]])\n",
    "    Y = getY([centroids[i]])\n",
    "    plot.scatter(X,Y,color=centroidColors[i],marker=\"^\")\n"
   ]
  },
  {
   "cell_type": "code",
   "execution_count": null,
   "id": "5521bce2",
   "metadata": {},
   "outputs": [],
   "source": []
  },
  {
   "cell_type": "code",
   "execution_count": null,
   "id": "01b21d0f",
   "metadata": {},
   "outputs": [],
   "source": []
  }
 ],
 "metadata": {
  "kernelspec": {
   "display_name": "Python 3 (ipykernel)",
   "language": "python",
   "name": "python3"
  },
  "language_info": {
   "codemirror_mode": {
    "name": "ipython",
    "version": 3
   },
   "file_extension": ".py",
   "mimetype": "text/x-python",
   "name": "python",
   "nbconvert_exporter": "python",
   "pygments_lexer": "ipython3",
   "version": "3.9.12"
  }
 },
 "nbformat": 4,
 "nbformat_minor": 5
}
