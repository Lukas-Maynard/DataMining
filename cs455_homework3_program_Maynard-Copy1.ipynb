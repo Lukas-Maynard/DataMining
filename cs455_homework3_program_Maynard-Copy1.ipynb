{
 "cells": [
  {
   "cell_type": "code",
   "execution_count": 11,
   "id": "0a6c8e63",
   "metadata": {
    "scrolled": false
   },
   "outputs": [
    {
     "name": "stdout",
     "output_type": "stream",
     "text": [
      "[['1', '2003', '250'], ['2', '2005', '247.5'], ['3', '2014', '224'], ['4', '2013', '200'], ['5', '2015', '174.1'], ['6', '2013', '164.5'], ['7', '1999', '161'], ['8', '2016', '159.9'], ['9', '2019', '159.2'], ['10', '2018', '151.1'], ['11', '2003', '150'], ['12', '2007', '150'], ['13', '2009', '150'], ['14', '2009', '150'], ['15', '2012', '146.2'], ['16', '2004', '135'], ['17', '2004', '130'], ['18', '2005', '130'], ['19', '2000', '126'], ['20', '2017', '124.7'], ['21', '2020', '100'], ['22', '2007', '100'], ['23', '2010', '100'], ['24', '2004', '75'], ['25', '2012', '70'], ['26', '2013', '70'], ['27', '2007', '65'], ['28', '2017', '63'], ['29', '2011', '60'], ['30', '1996', '60'], ['31', '2003', '60'], ['32', '2005', '60'], ['33', '2016', '55'], ['34', '2003', '50'], ['35', '2004', '50'], ['36', '2010', '50'], ['37', '2006', '47'], ['38', '2015', '45'], ['39', '2005', '45'], ['40', '2017', '41'], ['41', '2011', '40'], ['42', '2019', '37'], ['43', '2018', '35.4'], ['44', '2004', '35'], ['45', '2009', '35'], ['46', '2018', '32'], ['47', '2019', '30.3'], ['48', '2006', '30'], ['49', '2008', '30'], ['50', '2012', '30'], ['51', '2006', '30'], ['52', '2019', '30'], ['53', '2020', '29'], ['54', '2020', '28'], ['55', '2010', '25'], ['56', '2016', '24.2'], ['57', '2019', '24.2'], ['58', '2020', '24.2'], ['59', '2019', '23.2'], ['60', '2019', '23.1'], ['61', '2006', '21'], ['62', '2003', '20'], ['63', '2019', '20'], ['64', '2019', '20'], ['65', '2020', '19.4'], ['66', '2017', '17'], ['67', '2018', '17'], ['68', '2019', '16.9'], ['69', '2011', '16'], ['70', '2016', '15.8'], ['71', '2020', '15.3'], ['72', '2018', '15.2'], ['73', '2007', '15'], ['74', '2008', '15'], ['75', '2008', '15'], ['76', '2004', '15'], ['77', '2005', '15'], ['78', '2006', '15'], ['79', '2006', '15'], ['80', '2020', '15'], ['81', '2021', '13.5'], ['82', '2011', '13'], ['83', '2009', '13'], ['84', '2019', '12'], ['85', '2022', '10.9'], ['86', '2003', '10'], ['87', '2007', '10'], ['88', '2008', '10'], ['89', '2009', '10'], ['90', '2011', '10'], ['91', '2012', '10'], ['92', '2013', '10'], ['93', '2014', '10'], ['94', '2017', '10'], ['95', '2019', '10'], ['96', '2020', '10'], ['97', '2019', '9.7'], ['98', '2018', '9.6'], ['99', '2019', '9.2'], ['100', '2019', '7.3']]\n"
     ]
    }
   ],
   "source": [
    "#----- put raw data in in an array -----\n",
    "import csv\n",
    "\n",
    "rawData = []\n",
    "with open(\"cs455_homework3_Maynard_dataset.csv\" ,'r') as csvFile:\n",
    "    next(csvFile)\n",
    "    for line in csvFile:\n",
    "        rawData.append(line.strip().split(','))\n",
    "    csvFile.close()\n",
    "    \n",
    "print(rawData)"
   ]
  },
  {
   "cell_type": "code",
   "execution_count": 12,
   "id": "b4ffb5c8",
   "metadata": {
    "scrolled": true
   },
   "outputs": [
    {
     "name": "stdout",
     "output_type": "stream",
     "text": [
      "[[26.923, 100.0], [34.615, 98.97], [69.231, 89.287], [65.385, 79.398], [73.077, 68.727], [65.385, 64.771], [11.538, 63.329], [76.923, 62.876], [88.462, 62.588], [84.615, 59.25], [26.923, 58.797], [42.308, 58.797], [50.0, 58.797], [50.0, 58.797], [61.538, 57.231], [30.769, 52.616], [30.769, 50.556], [34.615, 50.556], [15.385, 48.908], [80.769, 48.372], [92.308, 38.195], [42.308, 38.195], [53.846, 38.195], [30.769, 27.895], [61.538, 25.834], [65.385, 25.834], [42.308, 23.774], [80.769, 22.95], [57.692, 21.714], [0.0, 21.714], [26.923, 21.714], [34.615, 21.714], [76.923, 19.654], [26.923, 17.594], [30.769, 17.594], [53.846, 17.594], [38.462, 16.358], [73.077, 15.534], [34.615, 15.534], [80.769, 13.885], [57.692, 13.473], [88.462, 12.237], [84.615, 11.578], [30.769, 11.413], [50.0, 11.413], [84.615, 10.177], [88.462, 9.477], [38.462, 9.353], [46.154, 9.353], [61.538, 9.353], [38.462, 9.353], [88.462, 9.353], [92.308, 8.941], [92.308, 8.529], [53.846, 7.293], [76.923, 6.963], [88.462, 6.963], [92.308, 6.963], [88.462, 6.551], [88.462, 6.51], [38.462, 5.645], [26.923, 5.233], [88.462, 5.233], [88.462, 5.233], [92.308, 4.986], [80.769, 3.997], [84.615, 3.997], [88.462, 3.956], [57.692, 3.585], [76.923, 3.502], [92.308, 3.296], [84.615, 3.255], [42.308, 3.173], [46.154, 3.173], [46.154, 3.173], [30.769, 3.173], [34.615, 3.173], [38.462, 3.173], [38.462, 3.173], [92.308, 3.173], [96.154, 2.555], [57.692, 2.349], [50.0, 2.349], [88.462, 1.937], [100.0, 1.483], [26.923, 1.112], [42.308, 1.112], [46.154, 1.112], [50.0, 1.112], [57.692, 1.112], [61.538, 1.112], [65.385, 1.112], [69.231, 1.112], [80.769, 1.112], [88.462, 1.112], [92.308, 1.112], [88.462, 0.989], [84.615, 0.948], [88.462, 0.783], [88.462, 0.0]]\n"
     ]
    }
   ],
   "source": [
    "#----- Normalize data and put the pairs together -----\n",
    "yearData = [int(i[1]) for i in rawData]\n",
    "soldData = [float(i[2]) for i in rawData]\n",
    "\n",
    "def normalizeData(data):\n",
    "    newData = []\n",
    "    for i in range(len(data)):\n",
    "        newValue = (data[i] - min(data))/ (max(data) - min(data))*100\n",
    "        newData.append(round(newValue,3))\n",
    "    return newData\n",
    "\n",
    "normYearData = normalizeData(yearData)\n",
    "normSoldData = normalizeData(soldData)\n",
    "\n",
    "pairedData = []\n",
    "for i,j in zip(normYearData,normSoldData):\n",
    "    newPair = [i,j] \n",
    "    pairedData.append(newPair)\n",
    "    \n",
    "print(pairedData)"
   ]
  },
  {
   "cell_type": "code",
   "execution_count": 13,
   "id": "ab47bbb7",
   "metadata": {
    "scrolled": true
   },
   "outputs": [
    {
     "data": {
      "text/plain": [
       "<matplotlib.collections.PathCollection at 0x18721dd2ac0>"
      ]
     },
     "execution_count": 13,
     "metadata": {},
     "output_type": "execute_result"
    },
    {
     "data": {
      "image/png": "[encoded data removed]",
      "text/plain": [
       "<Figure size 432x288 with 1 Axes>"
      ]
     },
     "metadata": {
      "needs_background": "light"
     },
     "output_type": "display_data"
    }
   ],
   "source": [
    "#----- Set up plot and functions -----\n",
    "import matplotlib.pyplot as plot\n",
    "%matplotlib inline\n",
    "plot.xlim([0,105])\n",
    "plot.ylim([0,105])\n",
    "\n",
    "def getX(data):\n",
    "    r = []\n",
    "    for i in data:\n",
    "        r.append(i[0])\n",
    "    return r\n",
    "        \n",
    "def getY(data):\n",
    "    r = []\n",
    "    for i in data:\n",
    "        r.append(i[1])\n",
    "    return r\n",
    "\n",
    "\n",
    "X = getX(pairedData)\n",
    "Y = getY(pairedData)\n",
    "plot.scatter(X,Y)\n",
    "\n"
   ]
  },
  {
   "cell_type": "code",
   "execution_count": 40,
   "id": "48bb31c7",
   "metadata": {},
   "outputs": [
    {
     "name": "stdout",
     "output_type": "stream",
     "text": [
      "[[88.462, 5.233], [88.462, 12.237], [73.077, 68.727]]\n"
     ]
    }
   ],
   "source": [
    "#-----Create 3 random centroids -----\n",
    "import random\n",
    "\n",
    "centroids = []\n",
    "for i in range(3):\n",
    "    centroids.append(pairedData[random.randint(0, 100)])\n",
    "\n",
    "print(centroids)"
   ]
  },
  {
   "cell_type": "code",
   "execution_count": 41,
   "id": "8b1a8232",
   "metadata": {},
   "outputs": [
    {
     "name": "stdout",
     "output_type": "stream",
     "text": [
      "[88.462, 5.233]\n",
      "[88.462, 12.237]\n",
      "[73.077, 68.727]\n"
     ]
    },
    {
     "data": {
      "image/png": "[encoded data removed]",
      "text/plain": [
       "<Figure size 432x288 with 1 Axes>"
      ]
     },
     "metadata": {
      "needs_background": "light"
     },
     "output_type": "display_data"
    }
   ],
   "source": [
    "#----- Plot centroids -----\n",
    "X = getX(pairedData)\n",
    "Y = getY(pairedData)\n",
    "plot.scatter(X,Y)\n",
    "\n",
    "centroidColors = [\"green\",\"purple\",\"red\"]\n",
    "\n",
    "\n",
    "for i in range(len(centroids)):\n",
    "    print(centroids[i])\n",
    "    X = getX([centroids[i]])\n",
    "    Y = getY([centroids[i]])\n",
    "    plot.scatter(X,Y,color=centroidColors[i],marker=\"^\")\n"
   ]
  },
  {
   "cell_type": "code",
   "execution_count": 42,
   "id": "e24c38cb",
   "metadata": {},
   "outputs": [],
   "source": [
    "import math\n",
    "def distance(p, q):\n",
    "    return int(math.fabs(p[0] - q[0]) + math.fabs(p[1]-q[1]))\n",
    "\n",
    "clusters = [[],[],[]]"
   ]
  },
  {
   "cell_type": "code",
   "execution_count": 43,
   "id": "d3063910",
   "metadata": {},
   "outputs": [
    {
     "name": "stdout",
     "output_type": "stream",
     "text": [
      "[54, 55, 56, 57, 58, 59, 60, 61, 62, 63, 64, 65, 66, 67, 68, 69, 70, 71, 72, 73, 74, 75, 76, 77, 78, 79, 80, 81, 82, 83, 84, 85, 86, 87, 88, 89, 90, 91, 92, 93, 94, 95, 96, 97, 98, 99]\n",
      "[20, 23, 24, 25, 26, 27, 28, 29, 30, 31, 32, 33, 34, 35, 36, 37, 38, 39, 40, 41, 42, 43, 44, 45, 46, 47, 48, 49, 50, 51]\n",
      "[0, 1, 2, 3, 4, 5, 6, 7, 8, 9, 10, 11, 12, 13, 14, 15, 16, 17, 18, 19, 21, 22, 52, 53]\n"
     ]
    }
   ],
   "source": [
    "for i in range(len(pairedData)):\n",
    "    if distance(pairedData[i],centroids[0])<distance(pairedData[i],centroids[1]) and distance(pairedData[i],centroids[0])<distance(pairedData[i],centroids[2]):\n",
    "        clusters[0].append(i)\n",
    "    elif distance(pairedData[i],centroids[1])<distance(pairedData[i],centroids[0]) and distance(pairedData[i],centroids[1])<distance(pairedData[i],centroids[2]):\n",
    "        clusters[1].append(i)\n",
    "    else:\n",
    "        clusters[2].append(i)\n",
    "        \n",
    "print(clusters[0])\n",
    "print(clusters[1])\n",
    "print(clusters[2])"
   ]
  },
  {
   "cell_type": "code",
   "execution_count": 44,
   "id": "079def6c",
   "metadata": {
    "scrolled": true
   },
   "outputs": [],
   "source": [
    "newClusters()"
   ]
  },
  {
   "cell_type": "code",
   "execution_count": 45,
   "id": "b653b408",
   "metadata": {},
   "outputs": [
    {
     "data": {
      "image/png": "[encoded data removed]",
      "text/plain": [
       "<Figure size 432x288 with 1 Axes>"
      ]
     },
     "metadata": {
      "needs_background": "light"
     },
     "output_type": "display_data"
    }
   ],
   "source": [
    "#----- plot clustered points -----\n",
    "clusterPoints = []\n",
    "pointColors = [\"red\",\"orange\",\"green\"]\n",
    "\n",
    "for i in range(len(clusters)):\n",
    "    for x in clusters[i]:\n",
    "        clusterPoints.append(pairedData[x])\n",
    "        X = getX(clusterPoints)\n",
    "        Y = getY(clusterPoints)\n",
    "        plot.scatter(X,Y,color =pointColors[i])\n",
    "        clusterPoints = []"
   ]
  },
  {
   "cell_type": "code",
   "execution_count": 46,
   "id": "8c04bb0b",
   "metadata": {},
   "outputs": [],
   "source": [
    "#----- Sum of Squared Error -----\n",
    "def SSE(centroid, cluster):\n",
    "    sum = 0\n",
    "    for point in cluster:\n",
    "        dist = distance(centroid, point)\n",
    "        sum += dist*dist\n",
    "    return sum"
   ]
  },
  {
   "cell_type": "code",
   "execution_count": 47,
   "id": "05623866",
   "metadata": {},
   "outputs": [
    {
     "name": "stdout",
     "output_type": "stream",
     "text": [
      "44569\n",
      "63630\n",
      "59753\n"
     ]
    }
   ],
   "source": [
    "#----- find SSE of all clusters -----\n",
    "\n",
    "def sseAllClusters():\n",
    "    for i in range(len(clusters)):\n",
    "        clusterPoints = []\n",
    "        for x in clusters[i]:\n",
    "            clusterPoints.append(pairedData[x])\n",
    "        print(SSE(centroids[i],clusterPoints))\n",
    "    \n",
    "sseAllClusters()"
   ]
  },
  {
   "cell_type": "code",
   "execution_count": 48,
   "id": "fcd59d6f",
   "metadata": {},
   "outputs": [],
   "source": [
    "#----- function to move centroids -----\n",
    "def newCentroid(cluster):\n",
    "    sum_X = 0\n",
    "    sum_Y = 0\n",
    "    for i in range(len(cluster)):\n",
    "        sum_X = pairedData[cluster[i]][0] + sum_X\n",
    "    for i in range(len(cluster)):\n",
    "        sum_Y = pairedData[cluster[i]][1] + sum_Y\n",
    "    return int(sum_X/len(cluster)), int(sum_Y/len(cluster))"
   ]
  },
  {
   "cell_type": "code",
   "execution_count": 49,
   "id": "548a692a",
   "metadata": {
    "scrolled": true
   },
   "outputs": [
    {
     "name": "stdout",
     "output_type": "stream",
     "text": [
      "[[88.462, 5.233], [88.462, 12.237], [73.077, 68.727]]\n",
      "[(69, 3), (55, 17), (54, 57)]\n",
      "False\n"
     ]
    }
   ],
   "source": [
    "#----- keeping old centroids for comparison, create new centroids -----\n",
    "def shiftCentroids():\n",
    "    oldCentroids = centroids.copy()\n",
    "\n",
    "    for i in range(len(centroids)):\n",
    "        centroids[i] = newCentroid(clusters[i])\n",
    "\n",
    "    print(oldCentroids)\n",
    "    print(centroids)\n",
    "    print(oldCentroids == centroids)\n",
    "shiftCentroids()"
   ]
  },
  {
   "cell_type": "code",
   "execution_count": 50,
   "id": "65a9677b",
   "metadata": {},
   "outputs": [],
   "source": [
    "#----- adjusting clusters -----\n",
    "newClusters()        "
   ]
  },
  {
   "cell_type": "code",
   "execution_count": 51,
   "id": "a185a00e",
   "metadata": {},
   "outputs": [
    {
     "name": "stdout",
     "output_type": "stream",
     "text": [
      "[(69, 3), (55, 17), (54, 57)]\n",
      "[(69, 3), (55, 17), (54, 57)]\n",
      "True\n"
     ]
    }
   ],
   "source": [
    "#----- create/move the centroids -----\n",
    "shiftCentroids()"
   ]
  },
  {
   "cell_type": "code",
   "execution_count": 52,
   "id": "4b1dbac7",
   "metadata": {},
   "outputs": [],
   "source": [
    "#----- adjusting clusters -----\n",
    "newClusters()\n",
    "        "
   ]
  },
  {
   "cell_type": "code",
   "execution_count": 114,
   "id": "f9496f99",
   "metadata": {},
   "outputs": [
    {
     "name": "stdout",
     "output_type": "stream",
     "text": [
      "[(49, 64), (85, 8), (42, 10)]\n",
      "[(49, 64), (85, 8), (42, 10)]\n",
      "True\n"
     ]
    }
   ],
   "source": [
    "#----- new centroids again -----\n",
    "shiftCentroids()"
   ]
  },
  {
   "cell_type": "code",
   "execution_count": 115,
   "id": "86abbbb1",
   "metadata": {},
   "outputs": [
    {
     "name": "stdout",
     "output_type": "stream",
     "text": [
      "(49, 64)\n",
      "(85, 8)\n",
      "(42, 10)\n"
     ]
    },
    {
     "data": {
      "image/png": "[encoded data removed]",
      "text/plain": [
       "<Figure size 432x288 with 1 Axes>"
      ]
     },
     "metadata": {
      "needs_background": "light"
     },
     "output_type": "display_data"
    }
   ],
   "source": [
    "#----- plot all points/centroids -----\n",
    "def displayFullGraph():\n",
    "    clusterPoints = []\n",
    "    pointColors = [\"red\",\"orange\",\"green\"]\n",
    "    centroidColors = [\"green\",\"purple\",\"red\"]\n",
    "\n",
    "    for i in range(len(clusters)):\n",
    "        for x in clusters[i]:\n",
    "            clusterPoints.append(pairedData[x])\n",
    "            X = getX(clusterPoints)\n",
    "            Y = getY(clusterPoints)\n",
    "            plot.scatter(X,Y,color =pointColors[i])\n",
    "            clusterPoints = []\n",
    "\n",
    "    for i in range(len(centroids)):\n",
    "        print(centroids[i])\n",
    "        X = getX([centroids[i]])\n",
    "        Y = getY([centroids[i]])\n",
    "        plot.scatter(X,Y,color=centroidColors[i],marker=\"^\")\n",
    "\n",
    "        \n",
    "displayFullGraph()"
   ]
  },
  {
   "cell_type": "code",
   "execution_count": 62,
   "id": "8966b10b",
   "metadata": {},
   "outputs": [
    {
     "name": "stdout",
     "output_type": "stream",
     "text": [
      "22327\n",
      "9740\n",
      "15257\n"
     ]
    }
   ],
   "source": [
    "#----- final SSE -----\n",
    "sseAllClusters()"
   ]
  },
  {
   "cell_type": "code",
   "execution_count": null,
   "id": "62164828",
   "metadata": {},
   "outputs": [],
   "source": []
  }
 ],
 "metadata": {
  "kernelspec": {
   "display_name": "Python 3 (ipykernel)",
   "language": "python",
   "name": "python3"
  },
  "language_info": {
   "codemirror_mode": {
    "name": "ipython",
    "version": 3
   },
   "file_extension": ".py",
   "mimetype": "text/x-python",
   "name": "python",
   "nbconvert_exporter": "python",
   "pygments_lexer": "ipython3",
   "version": "3.9.12"
  }
 },
 "nbformat": 4,
 "nbformat_minor": 5
}
